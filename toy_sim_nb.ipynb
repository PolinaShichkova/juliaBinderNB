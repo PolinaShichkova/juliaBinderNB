{
 "cells": [
  {
   "cell_type": "markdown",
   "metadata": {
    "id": "tQ1r1bbb0yBv"
   },
   "source": [
    "# Test Julia sim with binder"
   ]
  },
  {
   "cell_type": "code",
   "execution_count": 1,
   "metadata": {
    "colab": {
     "base_uri": "https://localhost:8080/"
    },
    "id": "EEzvvzCl1i0F",
    "outputId": "33b23b74-3d12-4954-a99d-b0d87add826a"
   },
   "outputs": [
    {
     "name": "stdout",
     "output_type": "stream",
     "text": [
      "Julia Version 1.6.7\n",
      "Commit 3b76b25b64* (2022-07-19 15:11 UTC)\n",
      "Platform Info:\n",
      "  OS: Linux (x86_64-pc-linux-gnu)\n",
      "  CPU: Intel(R) Xeon(R) Gold 6248 CPU @ 2.50GHz\n",
      "  WORD_SIZE: 64\n",
      "  LIBM: libopenlibm\n",
      "  LLVM: libLLVM-11.0.1 (ORCJIT, cascadelake)\n",
      "Environment:\n",
      "  JULIA_NUM_THREADS = 20\n"
     ]
    }
   ],
   "source": [
    "versioninfo()"
   ]
  },
  {
   "cell_type": "code",
   "execution_count": 2,
   "metadata": {
    "colab": {
     "base_uri": "https://localhost:8080/"
    },
    "id": "oANU_gHEDkpT",
    "outputId": "9d57ef82-9ec9-4146-8a3a-ed72d391f8c1"
   },
   "outputs": [
    {
     "name": "stdout",
     "output_type": "stream",
     "text": [
      "\u001b[32m\u001b[1m      Status\u001b[22m\u001b[39m `/gpfs/bbp.cscs.ch/project/proj34/metabolismndam/sim/metabolism_unit_models/FINAL_CLEAN/MAIN/Jay14aug23/Project.toml`\n",
      " \u001b[90m [336ed68f] \u001b[39mCSV\n",
      " \u001b[90m [a93c6f00] \u001b[39mDataFrames\n",
      " \u001b[90m [2b5f629d] \u001b[39mDiffEqBase\n",
      " \u001b[90m [459566f4] \u001b[39mDiffEqCallbacks\n",
      " \u001b[90m [0c46a032] \u001b[39mDifferentialEquations\n",
      " \u001b[90m [5789e2e9] \u001b[39mFileIO\n",
      " \u001b[90m [f6369f11] \u001b[39mForwardDiff\n",
      " \u001b[90m [7073ff75] \u001b[39mIJulia\n",
      " \u001b[90m [033835bb] \u001b[39mJLD2\n",
      " \u001b[90m [682c06a0] \u001b[39mJSON\n",
      " \u001b[90m [b2108857] \u001b[39mLux\n",
      " \u001b[90m [961ee093] \u001b[39mModelingToolkit\n",
      " \u001b[90m [1dea7af3] \u001b[39mOrdinaryDiffEq\n",
      " \u001b[90m [65888b18] \u001b[39mParameterizedFunctions\n",
      " \u001b[90m [91a5bcdd] \u001b[39mPlots\n",
      " \u001b[90m [731186ca] \u001b[39mRecursiveArrayTools\n",
      " \u001b[90m [0bca4576] \u001b[39mSciMLBase\n",
      " \u001b[90m [90137ffa] \u001b[39mStaticArrays\n",
      " \u001b[90m [2913bbd2] \u001b[39mStatsBase\n",
      " \u001b[90m [f3b207a7] \u001b[39mStatsPlots\n",
      " \u001b[90m [0c5d862f] \u001b[39mSymbolics\n",
      " \u001b[90m [e88e6eb3] \u001b[39mZygote\n"
     ]
    }
   ],
   "source": [
    "using Pkg; Pkg.status()"
   ]
  },
  {
   "cell_type": "code",
   "execution_count": 9,
   "metadata": {},
   "outputs": [
    {
     "name": "stdout",
     "output_type": "stream",
     "text": [
      "  55.403 ms (2 allocations: 8.00 MiB)\n"
     ]
    }
   ],
   "source": [
    "using BenchmarkTools\n",
    "\n",
    "# test performance\n",
    "\n",
    "M = rand(2^10, 2^10)\n",
    "\n",
    "@btime $M * $M;"
   ]
  },
  {
   "cell_type": "code",
   "execution_count": null,
   "metadata": {},
   "outputs": [],
   "source": []
  },
  {
   "cell_type": "code",
   "execution_count": null,
   "metadata": {},
   "outputs": [],
   "source": []
  },
  {
   "cell_type": "code",
   "execution_count": null,
   "metadata": {
    "id": "BeYjRUv0PkGD"
   },
   "outputs": [],
   "source": []
  }
 ],
 "metadata": {
  "colab": {
   "provenance": []
  },
  "gpuClass": "standard",
  "kernelspec": {
   "display_name": "Julia 1.6.7",
   "language": "julia",
   "name": "julia-1.6"
  },
  "language_info": {
   "file_extension": ".jl",
   "mimetype": "application/julia",
   "name": "julia",
   "version": "1.6.7"
  }
 },
 "nbformat": 4,
 "nbformat_minor": 4
}
